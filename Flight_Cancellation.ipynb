{
 "cells": [
  {
   "cell_type": "code",
   "execution_count": 1,
   "id": "b2140cef",
   "metadata": {
    "id": "b2140cef"
   },
   "outputs": [],
   "source": [
    "# plot images\n",
    "import seaborn as sns\n",
    "# plot images\n",
    "import matplotlib.pyplot as plt\n",
    "# pandas to deal with dataframes\n",
    "import pandas as pd\n",
    "# to split the training data set into train and validation data\n",
    "from sklearn.model_selection import train_test_split\n",
    "# to make data preprocessing ==> scale training data set\n",
    "from sklearn.preprocessing import LabelEncoder, StandardScaler"
   ]
  },
  {
   "cell_type": "code",
   "execution_count": 2,
   "id": "54dabdb9",
   "metadata": {
    "id": "54dabdb9"
   },
   "outputs": [],
   "source": [
    "# Load data\n",
    "airlines_df = pd.read_csv(r'data/airlines.csv')\n",
    "airports_df = pd.read_csv(r'data/airports.csv')\n",
    "flights_df = pd.read_csv(r'data/flights.csv')"
   ]
  },
  {
   "cell_type": "code",
   "execution_count": 3,
   "id": "366a3b74",
   "metadata": {
    "colab": {
     "base_uri": "https://localhost:8080/",
     "height": 488
    },
    "id": "366a3b74",
    "outputId": "9cf506e8-cd5c-4f70-c5d7-5900fa7aec27"
   },
   "outputs": [
    {
     "data": {
      "text/html": [
       "<div>\n",
       "<style scoped>\n",
       "    .dataframe tbody tr th:only-of-type {\n",
       "        vertical-align: middle;\n",
       "    }\n",
       "\n",
       "    .dataframe tbody tr th {\n",
       "        vertical-align: top;\n",
       "    }\n",
       "\n",
       "    .dataframe thead th {\n",
       "        text-align: right;\n",
       "    }\n",
       "</style>\n",
       "<table border=\"1\" class=\"dataframe\">\n",
       "  <thead>\n",
       "    <tr style=\"text-align: right;\">\n",
       "      <th></th>\n",
       "      <th>IATA_CODE</th>\n",
       "      <th>AIRLINE</th>\n",
       "    </tr>\n",
       "  </thead>\n",
       "  <tbody>\n",
       "    <tr>\n",
       "      <th>0</th>\n",
       "      <td>UA</td>\n",
       "      <td>United Air Lines Inc.</td>\n",
       "    </tr>\n",
       "    <tr>\n",
       "      <th>1</th>\n",
       "      <td>AA</td>\n",
       "      <td>American Airlines Inc.</td>\n",
       "    </tr>\n",
       "    <tr>\n",
       "      <th>2</th>\n",
       "      <td>US</td>\n",
       "      <td>US Airways Inc.</td>\n",
       "    </tr>\n",
       "    <tr>\n",
       "      <th>3</th>\n",
       "      <td>F9</td>\n",
       "      <td>Frontier Airlines Inc.</td>\n",
       "    </tr>\n",
       "    <tr>\n",
       "      <th>4</th>\n",
       "      <td>B6</td>\n",
       "      <td>JetBlue Airways</td>\n",
       "    </tr>\n",
       "    <tr>\n",
       "      <th>5</th>\n",
       "      <td>OO</td>\n",
       "      <td>Skywest Airlines Inc.</td>\n",
       "    </tr>\n",
       "    <tr>\n",
       "      <th>6</th>\n",
       "      <td>AS</td>\n",
       "      <td>Alaska Airlines Inc.</td>\n",
       "    </tr>\n",
       "    <tr>\n",
       "      <th>7</th>\n",
       "      <td>NK</td>\n",
       "      <td>Spirit Air Lines</td>\n",
       "    </tr>\n",
       "    <tr>\n",
       "      <th>8</th>\n",
       "      <td>WN</td>\n",
       "      <td>Southwest Airlines Co.</td>\n",
       "    </tr>\n",
       "    <tr>\n",
       "      <th>9</th>\n",
       "      <td>DL</td>\n",
       "      <td>Delta Air Lines Inc.</td>\n",
       "    </tr>\n",
       "    <tr>\n",
       "      <th>10</th>\n",
       "      <td>EV</td>\n",
       "      <td>Atlantic Southeast Airlines</td>\n",
       "    </tr>\n",
       "    <tr>\n",
       "      <th>11</th>\n",
       "      <td>HA</td>\n",
       "      <td>Hawaiian Airlines Inc.</td>\n",
       "    </tr>\n",
       "    <tr>\n",
       "      <th>12</th>\n",
       "      <td>MQ</td>\n",
       "      <td>American Eagle Airlines Inc.</td>\n",
       "    </tr>\n",
       "    <tr>\n",
       "      <th>13</th>\n",
       "      <td>VX</td>\n",
       "      <td>Virgin America</td>\n",
       "    </tr>\n",
       "  </tbody>\n",
       "</table>\n",
       "</div>"
      ],
      "text/plain": [
       "   IATA_CODE                       AIRLINE\n",
       "0         UA         United Air Lines Inc.\n",
       "1         AA        American Airlines Inc.\n",
       "2         US               US Airways Inc.\n",
       "3         F9        Frontier Airlines Inc.\n",
       "4         B6               JetBlue Airways\n",
       "5         OO         Skywest Airlines Inc.\n",
       "6         AS          Alaska Airlines Inc.\n",
       "7         NK              Spirit Air Lines\n",
       "8         WN        Southwest Airlines Co.\n",
       "9         DL          Delta Air Lines Inc.\n",
       "10        EV   Atlantic Southeast Airlines\n",
       "11        HA        Hawaiian Airlines Inc.\n",
       "12        MQ  American Eagle Airlines Inc.\n",
       "13        VX                Virgin America"
      ]
     },
     "execution_count": 3,
     "metadata": {},
     "output_type": "execute_result"
    }
   ],
   "source": [
    "airlines_df"
   ]
  },
  {
   "cell_type": "code",
   "execution_count": 4,
   "id": "12d41fbe",
   "metadata": {
    "colab": {
     "base_uri": "https://localhost:8080/",
     "height": 423
    },
    "id": "12d41fbe",
    "outputId": "5cae3fe2-e530-42f2-c709-783e60a090ad"
   },
   "outputs": [
    {
     "data": {
      "text/html": [
       "<div>\n",
       "<style scoped>\n",
       "    .dataframe tbody tr th:only-of-type {\n",
       "        vertical-align: middle;\n",
       "    }\n",
       "\n",
       "    .dataframe tbody tr th {\n",
       "        vertical-align: top;\n",
       "    }\n",
       "\n",
       "    .dataframe thead th {\n",
       "        text-align: right;\n",
       "    }\n",
       "</style>\n",
       "<table border=\"1\" class=\"dataframe\">\n",
       "  <thead>\n",
       "    <tr style=\"text-align: right;\">\n",
       "      <th></th>\n",
       "      <th>IATA_CODE</th>\n",
       "      <th>AIRPORT</th>\n",
       "      <th>CITY</th>\n",
       "      <th>STATE</th>\n",
       "      <th>COUNTRY</th>\n",
       "      <th>LATITUDE</th>\n",
       "      <th>LONGITUDE</th>\n",
       "    </tr>\n",
       "  </thead>\n",
       "  <tbody>\n",
       "    <tr>\n",
       "      <th>0</th>\n",
       "      <td>ABE</td>\n",
       "      <td>Lehigh Valley International Airport</td>\n",
       "      <td>Allentown</td>\n",
       "      <td>PA</td>\n",
       "      <td>USA</td>\n",
       "      <td>40.65236</td>\n",
       "      <td>-75.44040</td>\n",
       "    </tr>\n",
       "    <tr>\n",
       "      <th>1</th>\n",
       "      <td>ABI</td>\n",
       "      <td>Abilene Regional Airport</td>\n",
       "      <td>Abilene</td>\n",
       "      <td>TX</td>\n",
       "      <td>USA</td>\n",
       "      <td>32.41132</td>\n",
       "      <td>-99.68190</td>\n",
       "    </tr>\n",
       "    <tr>\n",
       "      <th>2</th>\n",
       "      <td>ABQ</td>\n",
       "      <td>Albuquerque International Sunport</td>\n",
       "      <td>Albuquerque</td>\n",
       "      <td>NM</td>\n",
       "      <td>USA</td>\n",
       "      <td>35.04022</td>\n",
       "      <td>-106.60919</td>\n",
       "    </tr>\n",
       "    <tr>\n",
       "      <th>3</th>\n",
       "      <td>ABR</td>\n",
       "      <td>Aberdeen Regional Airport</td>\n",
       "      <td>Aberdeen</td>\n",
       "      <td>SD</td>\n",
       "      <td>USA</td>\n",
       "      <td>45.44906</td>\n",
       "      <td>-98.42183</td>\n",
       "    </tr>\n",
       "    <tr>\n",
       "      <th>4</th>\n",
       "      <td>ABY</td>\n",
       "      <td>Southwest Georgia Regional Airport</td>\n",
       "      <td>Albany</td>\n",
       "      <td>GA</td>\n",
       "      <td>USA</td>\n",
       "      <td>31.53552</td>\n",
       "      <td>-84.19447</td>\n",
       "    </tr>\n",
       "    <tr>\n",
       "      <th>...</th>\n",
       "      <td>...</td>\n",
       "      <td>...</td>\n",
       "      <td>...</td>\n",
       "      <td>...</td>\n",
       "      <td>...</td>\n",
       "      <td>...</td>\n",
       "      <td>...</td>\n",
       "    </tr>\n",
       "    <tr>\n",
       "      <th>317</th>\n",
       "      <td>WRG</td>\n",
       "      <td>Wrangell Airport</td>\n",
       "      <td>Wrangell</td>\n",
       "      <td>AK</td>\n",
       "      <td>USA</td>\n",
       "      <td>56.48433</td>\n",
       "      <td>-132.36982</td>\n",
       "    </tr>\n",
       "    <tr>\n",
       "      <th>318</th>\n",
       "      <td>WYS</td>\n",
       "      <td>Westerly State Airport</td>\n",
       "      <td>West Yellowstone</td>\n",
       "      <td>MT</td>\n",
       "      <td>USA</td>\n",
       "      <td>44.68840</td>\n",
       "      <td>-111.11764</td>\n",
       "    </tr>\n",
       "    <tr>\n",
       "      <th>319</th>\n",
       "      <td>XNA</td>\n",
       "      <td>Northwest Arkansas Regional Airport</td>\n",
       "      <td>Fayetteville/Springdale/Rogers</td>\n",
       "      <td>AR</td>\n",
       "      <td>USA</td>\n",
       "      <td>36.28187</td>\n",
       "      <td>-94.30681</td>\n",
       "    </tr>\n",
       "    <tr>\n",
       "      <th>320</th>\n",
       "      <td>YAK</td>\n",
       "      <td>Yakutat Airport</td>\n",
       "      <td>Yakutat</td>\n",
       "      <td>AK</td>\n",
       "      <td>USA</td>\n",
       "      <td>59.50336</td>\n",
       "      <td>-139.66023</td>\n",
       "    </tr>\n",
       "    <tr>\n",
       "      <th>321</th>\n",
       "      <td>YUM</td>\n",
       "      <td>Yuma International Airport</td>\n",
       "      <td>Yuma</td>\n",
       "      <td>AZ</td>\n",
       "      <td>USA</td>\n",
       "      <td>32.65658</td>\n",
       "      <td>-114.60597</td>\n",
       "    </tr>\n",
       "  </tbody>\n",
       "</table>\n",
       "<p>322 rows × 7 columns</p>\n",
       "</div>"
      ],
      "text/plain": [
       "    IATA_CODE                              AIRPORT  \\\n",
       "0         ABE  Lehigh Valley International Airport   \n",
       "1         ABI             Abilene Regional Airport   \n",
       "2         ABQ    Albuquerque International Sunport   \n",
       "3         ABR            Aberdeen Regional Airport   \n",
       "4         ABY   Southwest Georgia Regional Airport   \n",
       "..        ...                                  ...   \n",
       "317       WRG                     Wrangell Airport   \n",
       "318       WYS               Westerly State Airport   \n",
       "319       XNA  Northwest Arkansas Regional Airport   \n",
       "320       YAK                      Yakutat Airport   \n",
       "321       YUM           Yuma International Airport   \n",
       "\n",
       "                               CITY STATE COUNTRY  LATITUDE  LONGITUDE  \n",
       "0                         Allentown    PA     USA  40.65236  -75.44040  \n",
       "1                           Abilene    TX     USA  32.41132  -99.68190  \n",
       "2                       Albuquerque    NM     USA  35.04022 -106.60919  \n",
       "3                          Aberdeen    SD     USA  45.44906  -98.42183  \n",
       "4                            Albany    GA     USA  31.53552  -84.19447  \n",
       "..                              ...   ...     ...       ...        ...  \n",
       "317                        Wrangell    AK     USA  56.48433 -132.36982  \n",
       "318                West Yellowstone    MT     USA  44.68840 -111.11764  \n",
       "319  Fayetteville/Springdale/Rogers    AR     USA  36.28187  -94.30681  \n",
       "320                         Yakutat    AK     USA  59.50336 -139.66023  \n",
       "321                            Yuma    AZ     USA  32.65658 -114.60597  \n",
       "\n",
       "[322 rows x 7 columns]"
      ]
     },
     "execution_count": 4,
     "metadata": {},
     "output_type": "execute_result"
    }
   ],
   "source": [
    "airports_df"
   ]
  },
  {
   "cell_type": "code",
   "execution_count": 5,
   "id": "65bd71c9",
   "metadata": {
    "colab": {
     "base_uri": "https://localhost:8080/",
     "height": 443
    },
    "id": "65bd71c9",
    "outputId": "47dd1d64-fdec-428b-d08e-234f0ed4ab70"
   },
   "outputs": [
    {
     "data": {
      "text/html": [
       "<div>\n",
       "<style scoped>\n",
       "    .dataframe tbody tr th:only-of-type {\n",
       "        vertical-align: middle;\n",
       "    }\n",
       "\n",
       "    .dataframe tbody tr th {\n",
       "        vertical-align: top;\n",
       "    }\n",
       "\n",
       "    .dataframe thead th {\n",
       "        text-align: right;\n",
       "    }\n",
       "</style>\n",
       "<table border=\"1\" class=\"dataframe\">\n",
       "  <thead>\n",
       "    <tr style=\"text-align: right;\">\n",
       "      <th></th>\n",
       "      <th>MONTH</th>\n",
       "      <th>DAY</th>\n",
       "      <th>AIRLINE</th>\n",
       "      <th>FLIGHT_NUMBER</th>\n",
       "      <th>TAIL_NUMBER</th>\n",
       "      <th>ORIGIN_AIRPORT</th>\n",
       "      <th>DESTINATION_AIRPORT</th>\n",
       "      <th>SCHEDULED_TIME</th>\n",
       "      <th>Flight_Status</th>\n",
       "      <th>CANCELLATION_REASON</th>\n",
       "      <th>AIR_SYSTEM_DELAY</th>\n",
       "      <th>SECURITY_DELAY</th>\n",
       "      <th>AIRLINE_DELAY</th>\n",
       "      <th>LATE_AIRCRAFT_DELAY</th>\n",
       "      <th>WEATHER_DELAY</th>\n",
       "      <th>DISTANCE</th>\n",
       "    </tr>\n",
       "  </thead>\n",
       "  <tbody>\n",
       "    <tr>\n",
       "      <th>0</th>\n",
       "      <td>1</td>\n",
       "      <td>1</td>\n",
       "      <td>MQ</td>\n",
       "      <td>3303</td>\n",
       "      <td>N678MQ</td>\n",
       "      <td>DFW</td>\n",
       "      <td>GJT</td>\n",
       "      <td>133.0</td>\n",
       "      <td>0</td>\n",
       "      <td>NaN</td>\n",
       "      <td>0.0</td>\n",
       "      <td>0.0</td>\n",
       "      <td>22.0</td>\n",
       "      <td>22.0</td>\n",
       "      <td>0.0</td>\n",
       "      <td>773</td>\n",
       "    </tr>\n",
       "    <tr>\n",
       "      <th>1</th>\n",
       "      <td>1</td>\n",
       "      <td>1</td>\n",
       "      <td>NK</td>\n",
       "      <td>295</td>\n",
       "      <td>N521NK</td>\n",
       "      <td>ORD</td>\n",
       "      <td>IAH</td>\n",
       "      <td>167.0</td>\n",
       "      <td>0</td>\n",
       "      <td>NaN</td>\n",
       "      <td>26.0</td>\n",
       "      <td>0.0</td>\n",
       "      <td>0.0</td>\n",
       "      <td>0.0</td>\n",
       "      <td>0.0</td>\n",
       "      <td>925</td>\n",
       "    </tr>\n",
       "    <tr>\n",
       "      <th>2</th>\n",
       "      <td>1</td>\n",
       "      <td>1</td>\n",
       "      <td>OO</td>\n",
       "      <td>2610</td>\n",
       "      <td>N866AS</td>\n",
       "      <td>LAX</td>\n",
       "      <td>FAT</td>\n",
       "      <td>55.0</td>\n",
       "      <td>0</td>\n",
       "      <td>NaN</td>\n",
       "      <td>NaN</td>\n",
       "      <td>NaN</td>\n",
       "      <td>NaN</td>\n",
       "      <td>NaN</td>\n",
       "      <td>NaN</td>\n",
       "      <td>209</td>\n",
       "    </tr>\n",
       "    <tr>\n",
       "      <th>3</th>\n",
       "      <td>1</td>\n",
       "      <td>1</td>\n",
       "      <td>OO</td>\n",
       "      <td>5343</td>\n",
       "      <td>N584SW</td>\n",
       "      <td>LAX</td>\n",
       "      <td>SBP</td>\n",
       "      <td>59.0</td>\n",
       "      <td>0</td>\n",
       "      <td>NaN</td>\n",
       "      <td>NaN</td>\n",
       "      <td>NaN</td>\n",
       "      <td>NaN</td>\n",
       "      <td>NaN</td>\n",
       "      <td>NaN</td>\n",
       "      <td>156</td>\n",
       "    </tr>\n",
       "    <tr>\n",
       "      <th>4</th>\n",
       "      <td>1</td>\n",
       "      <td>1</td>\n",
       "      <td>OO</td>\n",
       "      <td>4443</td>\n",
       "      <td>N455SW</td>\n",
       "      <td>CVG</td>\n",
       "      <td>MKE</td>\n",
       "      <td>83.0</td>\n",
       "      <td>0</td>\n",
       "      <td>NaN</td>\n",
       "      <td>NaN</td>\n",
       "      <td>NaN</td>\n",
       "      <td>NaN</td>\n",
       "      <td>NaN</td>\n",
       "      <td>NaN</td>\n",
       "      <td>318</td>\n",
       "    </tr>\n",
       "    <tr>\n",
       "      <th>...</th>\n",
       "      <td>...</td>\n",
       "      <td>...</td>\n",
       "      <td>...</td>\n",
       "      <td>...</td>\n",
       "      <td>...</td>\n",
       "      <td>...</td>\n",
       "      <td>...</td>\n",
       "      <td>...</td>\n",
       "      <td>...</td>\n",
       "      <td>...</td>\n",
       "      <td>...</td>\n",
       "      <td>...</td>\n",
       "      <td>...</td>\n",
       "      <td>...</td>\n",
       "      <td>...</td>\n",
       "      <td>...</td>\n",
       "    </tr>\n",
       "    <tr>\n",
       "      <th>581741</th>\n",
       "      <td>12</td>\n",
       "      <td>31</td>\n",
       "      <td>B6</td>\n",
       "      <td>688</td>\n",
       "      <td>N657JB</td>\n",
       "      <td>LAX</td>\n",
       "      <td>BOS</td>\n",
       "      <td>320.0</td>\n",
       "      <td>0</td>\n",
       "      <td>NaN</td>\n",
       "      <td>NaN</td>\n",
       "      <td>NaN</td>\n",
       "      <td>NaN</td>\n",
       "      <td>NaN</td>\n",
       "      <td>NaN</td>\n",
       "      <td>2611</td>\n",
       "    </tr>\n",
       "    <tr>\n",
       "      <th>581742</th>\n",
       "      <td>12</td>\n",
       "      <td>31</td>\n",
       "      <td>B6</td>\n",
       "      <td>745</td>\n",
       "      <td>N828JB</td>\n",
       "      <td>JFK</td>\n",
       "      <td>PSE</td>\n",
       "      <td>227.0</td>\n",
       "      <td>0</td>\n",
       "      <td>NaN</td>\n",
       "      <td>NaN</td>\n",
       "      <td>NaN</td>\n",
       "      <td>NaN</td>\n",
       "      <td>NaN</td>\n",
       "      <td>NaN</td>\n",
       "      <td>1617</td>\n",
       "    </tr>\n",
       "    <tr>\n",
       "      <th>581743</th>\n",
       "      <td>12</td>\n",
       "      <td>31</td>\n",
       "      <td>B6</td>\n",
       "      <td>1503</td>\n",
       "      <td>N913JB</td>\n",
       "      <td>JFK</td>\n",
       "      <td>SJU</td>\n",
       "      <td>221.0</td>\n",
       "      <td>0</td>\n",
       "      <td>NaN</td>\n",
       "      <td>NaN</td>\n",
       "      <td>NaN</td>\n",
       "      <td>NaN</td>\n",
       "      <td>NaN</td>\n",
       "      <td>NaN</td>\n",
       "      <td>1598</td>\n",
       "    </tr>\n",
       "    <tr>\n",
       "      <th>581744</th>\n",
       "      <td>12</td>\n",
       "      <td>31</td>\n",
       "      <td>B6</td>\n",
       "      <td>333</td>\n",
       "      <td>N527JB</td>\n",
       "      <td>MCO</td>\n",
       "      <td>SJU</td>\n",
       "      <td>161.0</td>\n",
       "      <td>0</td>\n",
       "      <td>NaN</td>\n",
       "      <td>NaN</td>\n",
       "      <td>NaN</td>\n",
       "      <td>NaN</td>\n",
       "      <td>NaN</td>\n",
       "      <td>NaN</td>\n",
       "      <td>1189</td>\n",
       "    </tr>\n",
       "    <tr>\n",
       "      <th>581745</th>\n",
       "      <td>12</td>\n",
       "      <td>31</td>\n",
       "      <td>B6</td>\n",
       "      <td>839</td>\n",
       "      <td>N534JB</td>\n",
       "      <td>JFK</td>\n",
       "      <td>BQN</td>\n",
       "      <td>221.0</td>\n",
       "      <td>0</td>\n",
       "      <td>NaN</td>\n",
       "      <td>NaN</td>\n",
       "      <td>NaN</td>\n",
       "      <td>NaN</td>\n",
       "      <td>NaN</td>\n",
       "      <td>NaN</td>\n",
       "      <td>1576</td>\n",
       "    </tr>\n",
       "  </tbody>\n",
       "</table>\n",
       "<p>581746 rows × 16 columns</p>\n",
       "</div>"
      ],
      "text/plain": [
       "        MONTH  DAY AIRLINE  FLIGHT_NUMBER TAIL_NUMBER ORIGIN_AIRPORT  \\\n",
       "0           1    1      MQ           3303      N678MQ            DFW   \n",
       "1           1    1      NK            295      N521NK            ORD   \n",
       "2           1    1      OO           2610      N866AS            LAX   \n",
       "3           1    1      OO           5343      N584SW            LAX   \n",
       "4           1    1      OO           4443      N455SW            CVG   \n",
       "...       ...  ...     ...            ...         ...            ...   \n",
       "581741     12   31      B6            688      N657JB            LAX   \n",
       "581742     12   31      B6            745      N828JB            JFK   \n",
       "581743     12   31      B6           1503      N913JB            JFK   \n",
       "581744     12   31      B6            333      N527JB            MCO   \n",
       "581745     12   31      B6            839      N534JB            JFK   \n",
       "\n",
       "       DESTINATION_AIRPORT  SCHEDULED_TIME  Flight_Status CANCELLATION_REASON  \\\n",
       "0                      GJT           133.0              0                 NaN   \n",
       "1                      IAH           167.0              0                 NaN   \n",
       "2                      FAT            55.0              0                 NaN   \n",
       "3                      SBP            59.0              0                 NaN   \n",
       "4                      MKE            83.0              0                 NaN   \n",
       "...                    ...             ...            ...                 ...   \n",
       "581741                 BOS           320.0              0                 NaN   \n",
       "581742                 PSE           227.0              0                 NaN   \n",
       "581743                 SJU           221.0              0                 NaN   \n",
       "581744                 SJU           161.0              0                 NaN   \n",
       "581745                 BQN           221.0              0                 NaN   \n",
       "\n",
       "        AIR_SYSTEM_DELAY  SECURITY_DELAY  AIRLINE_DELAY  LATE_AIRCRAFT_DELAY  \\\n",
       "0                    0.0             0.0           22.0                 22.0   \n",
       "1                   26.0             0.0            0.0                  0.0   \n",
       "2                    NaN             NaN            NaN                  NaN   \n",
       "3                    NaN             NaN            NaN                  NaN   \n",
       "4                    NaN             NaN            NaN                  NaN   \n",
       "...                  ...             ...            ...                  ...   \n",
       "581741               NaN             NaN            NaN                  NaN   \n",
       "581742               NaN             NaN            NaN                  NaN   \n",
       "581743               NaN             NaN            NaN                  NaN   \n",
       "581744               NaN             NaN            NaN                  NaN   \n",
       "581745               NaN             NaN            NaN                  NaN   \n",
       "\n",
       "        WEATHER_DELAY  DISTANCE  \n",
       "0                 0.0       773  \n",
       "1                 0.0       925  \n",
       "2                 NaN       209  \n",
       "3                 NaN       156  \n",
       "4                 NaN       318  \n",
       "...               ...       ...  \n",
       "581741            NaN      2611  \n",
       "581742            NaN      1617  \n",
       "581743            NaN      1598  \n",
       "581744            NaN      1189  \n",
       "581745            NaN      1576  \n",
       "\n",
       "[581746 rows x 16 columns]"
      ]
     },
     "execution_count": 5,
     "metadata": {},
     "output_type": "execute_result"
    }
   ],
   "source": [
    "flights_df"
   ]
  },
  {
   "cell_type": "code",
   "execution_count": 6,
   "id": "82fc5410",
   "metadata": {
    "id": "82fc5410"
   },
   "outputs": [],
   "source": [
    "# Convert airport codes to string to ensure consistent data type\n",
    "flights_df['ORIGIN_AIRPORT'] = flights_df['ORIGIN_AIRPORT'].astype(str)\n",
    "flights_df['DESTINATION_AIRPORT'] = flights_df['DESTINATION_AIRPORT'].astype(str)\n",
    "airports_df['IATA_CODE'] = airports_df['IATA_CODE'].astype(str)"
   ]
  },
  {
   "cell_type": "code",
   "execution_count": 7,
   "id": "8a78b729",
   "metadata": {
    "id": "8a78b729"
   },
   "outputs": [],
   "source": [
    "# Merge flights_df with airports_df to get airport names\n",
    "flights_df = flights_df.merge(airports_df[['IATA_CODE', 'AIRPORT']], left_on='ORIGIN_AIRPORT', right_on='IATA_CODE', how='left')\n",
    "flights_df = flights_df.rename(columns={'AIRPORT': 'ORIGIN_AIRPORT_NAME'})\n",
    "flights_df = flights_df.drop(columns=['IATA_CODE'])"
   ]
  },
  {
   "cell_type": "code",
   "execution_count": 8,
   "id": "07199237",
   "metadata": {
    "id": "07199237"
   },
   "outputs": [],
   "source": [
    "flights_df = flights_df.merge(airports_df[['IATA_CODE', 'AIRPORT']], left_on='DESTINATION_AIRPORT', right_on='IATA_CODE', how='left')\n",
    "flights_df = flights_df.rename(columns={'AIRPORT': 'DESTINATION_AIRPORT_NAME'})\n",
    "flights_df = flights_df.drop(columns=['IATA_CODE'])"
   ]
  },
  {
   "cell_type": "code",
   "execution_count": 9,
   "id": "7c141b1e",
   "metadata": {
    "id": "7c141b1e"
   },
   "outputs": [],
   "source": [
    "# Encode categorical variables\n",
    "label_encoder = LabelEncoder()\n",
    "flights_df['AIRLINE'] = label_encoder.fit_transform(flights_df['AIRLINE'])\n",
    "flights_df['ORIGIN_AIRPORT_NAME'] = label_encoder.fit_transform(flights_df['ORIGIN_AIRPORT_NAME'])\n",
    "flights_df['DESTINATION_AIRPORT_NAME'] = label_encoder.fit_transform(flights_df['DESTINATION_AIRPORT_NAME'])"
   ]
  },
  {
   "cell_type": "code",
   "execution_count": 10,
   "id": "f127874d",
   "metadata": {
    "colab": {
     "base_uri": "https://localhost:8080/",
     "height": 443
    },
    "id": "f127874d",
    "outputId": "3b4a407e-7db6-4da3-e808-cfd2511a912a"
   },
   "outputs": [
    {
     "data": {
      "text/html": [
       "<div>\n",
       "<style scoped>\n",
       "    .dataframe tbody tr th:only-of-type {\n",
       "        vertical-align: middle;\n",
       "    }\n",
       "\n",
       "    .dataframe tbody tr th {\n",
       "        vertical-align: top;\n",
       "    }\n",
       "\n",
       "    .dataframe thead th {\n",
       "        text-align: right;\n",
       "    }\n",
       "</style>\n",
       "<table border=\"1\" class=\"dataframe\">\n",
       "  <thead>\n",
       "    <tr style=\"text-align: right;\">\n",
       "      <th></th>\n",
       "      <th>MONTH</th>\n",
       "      <th>DAY</th>\n",
       "      <th>AIRLINE</th>\n",
       "      <th>FLIGHT_NUMBER</th>\n",
       "      <th>TAIL_NUMBER</th>\n",
       "      <th>ORIGIN_AIRPORT</th>\n",
       "      <th>DESTINATION_AIRPORT</th>\n",
       "      <th>SCHEDULED_TIME</th>\n",
       "      <th>Flight_Status</th>\n",
       "      <th>CANCELLATION_REASON</th>\n",
       "      <th>AIR_SYSTEM_DELAY</th>\n",
       "      <th>SECURITY_DELAY</th>\n",
       "      <th>AIRLINE_DELAY</th>\n",
       "      <th>LATE_AIRCRAFT_DELAY</th>\n",
       "      <th>WEATHER_DELAY</th>\n",
       "      <th>DISTANCE</th>\n",
       "      <th>ORIGIN_AIRPORT_NAME</th>\n",
       "      <th>DESTINATION_AIRPORT_NAME</th>\n",
       "    </tr>\n",
       "  </thead>\n",
       "  <tbody>\n",
       "    <tr>\n",
       "      <th>0</th>\n",
       "      <td>1</td>\n",
       "      <td>1</td>\n",
       "      <td>7</td>\n",
       "      <td>3303</td>\n",
       "      <td>N678MQ</td>\n",
       "      <td>DFW</td>\n",
       "      <td>GJT</td>\n",
       "      <td>133.0</td>\n",
       "      <td>0</td>\n",
       "      <td>NaN</td>\n",
       "      <td>0.0</td>\n",
       "      <td>0.0</td>\n",
       "      <td>22.0</td>\n",
       "      <td>22.0</td>\n",
       "      <td>0.0</td>\n",
       "      <td>773</td>\n",
       "      <td>44</td>\n",
       "      <td>108</td>\n",
       "    </tr>\n",
       "    <tr>\n",
       "      <th>1</th>\n",
       "      <td>1</td>\n",
       "      <td>1</td>\n",
       "      <td>8</td>\n",
       "      <td>295</td>\n",
       "      <td>N521NK</td>\n",
       "      <td>ORD</td>\n",
       "      <td>IAH</td>\n",
       "      <td>167.0</td>\n",
       "      <td>0</td>\n",
       "      <td>NaN</td>\n",
       "      <td>26.0</td>\n",
       "      <td>0.0</td>\n",
       "      <td>0.0</td>\n",
       "      <td>0.0</td>\n",
       "      <td>0.0</td>\n",
       "      <td>925</td>\n",
       "      <td>37</td>\n",
       "      <td>102</td>\n",
       "    </tr>\n",
       "    <tr>\n",
       "      <th>2</th>\n",
       "      <td>1</td>\n",
       "      <td>1</td>\n",
       "      <td>9</td>\n",
       "      <td>2610</td>\n",
       "      <td>N866AS</td>\n",
       "      <td>LAX</td>\n",
       "      <td>FAT</td>\n",
       "      <td>55.0</td>\n",
       "      <td>0</td>\n",
       "      <td>NaN</td>\n",
       "      <td>NaN</td>\n",
       "      <td>NaN</td>\n",
       "      <td>NaN</td>\n",
       "      <td>NaN</td>\n",
       "      <td>NaN</td>\n",
       "      <td>209</td>\n",
       "      <td>96</td>\n",
       "      <td>95</td>\n",
       "    </tr>\n",
       "    <tr>\n",
       "      <th>3</th>\n",
       "      <td>1</td>\n",
       "      <td>1</td>\n",
       "      <td>9</td>\n",
       "      <td>5343</td>\n",
       "      <td>N584SW</td>\n",
       "      <td>LAX</td>\n",
       "      <td>SBP</td>\n",
       "      <td>59.0</td>\n",
       "      <td>0</td>\n",
       "      <td>NaN</td>\n",
       "      <td>NaN</td>\n",
       "      <td>NaN</td>\n",
       "      <td>NaN</td>\n",
       "      <td>NaN</td>\n",
       "      <td>NaN</td>\n",
       "      <td>156</td>\n",
       "      <td>96</td>\n",
       "      <td>239</td>\n",
       "    </tr>\n",
       "    <tr>\n",
       "      <th>4</th>\n",
       "      <td>1</td>\n",
       "      <td>1</td>\n",
       "      <td>9</td>\n",
       "      <td>4443</td>\n",
       "      <td>N455SW</td>\n",
       "      <td>CVG</td>\n",
       "      <td>MKE</td>\n",
       "      <td>83.0</td>\n",
       "      <td>0</td>\n",
       "      <td>NaN</td>\n",
       "      <td>NaN</td>\n",
       "      <td>NaN</td>\n",
       "      <td>NaN</td>\n",
       "      <td>NaN</td>\n",
       "      <td>NaN</td>\n",
       "      <td>318</td>\n",
       "      <td>38</td>\n",
       "      <td>100</td>\n",
       "    </tr>\n",
       "    <tr>\n",
       "      <th>...</th>\n",
       "      <td>...</td>\n",
       "      <td>...</td>\n",
       "      <td>...</td>\n",
       "      <td>...</td>\n",
       "      <td>...</td>\n",
       "      <td>...</td>\n",
       "      <td>...</td>\n",
       "      <td>...</td>\n",
       "      <td>...</td>\n",
       "      <td>...</td>\n",
       "      <td>...</td>\n",
       "      <td>...</td>\n",
       "      <td>...</td>\n",
       "      <td>...</td>\n",
       "      <td>...</td>\n",
       "      <td>...</td>\n",
       "      <td>...</td>\n",
       "      <td>...</td>\n",
       "    </tr>\n",
       "    <tr>\n",
       "      <th>581741</th>\n",
       "      <td>12</td>\n",
       "      <td>31</td>\n",
       "      <td>2</td>\n",
       "      <td>688</td>\n",
       "      <td>N657JB</td>\n",
       "      <td>LAX</td>\n",
       "      <td>BOS</td>\n",
       "      <td>320.0</td>\n",
       "      <td>0</td>\n",
       "      <td>NaN</td>\n",
       "      <td>NaN</td>\n",
       "      <td>NaN</td>\n",
       "      <td>NaN</td>\n",
       "      <td>NaN</td>\n",
       "      <td>NaN</td>\n",
       "      <td>2611</td>\n",
       "      <td>96</td>\n",
       "      <td>99</td>\n",
       "    </tr>\n",
       "    <tr>\n",
       "      <th>581742</th>\n",
       "      <td>12</td>\n",
       "      <td>31</td>\n",
       "      <td>2</td>\n",
       "      <td>745</td>\n",
       "      <td>N828JB</td>\n",
       "      <td>JFK</td>\n",
       "      <td>PSE</td>\n",
       "      <td>227.0</td>\n",
       "      <td>0</td>\n",
       "      <td>NaN</td>\n",
       "      <td>NaN</td>\n",
       "      <td>NaN</td>\n",
       "      <td>NaN</td>\n",
       "      <td>NaN</td>\n",
       "      <td>NaN</td>\n",
       "      <td>1617</td>\n",
       "      <td>79</td>\n",
       "      <td>175</td>\n",
       "    </tr>\n",
       "    <tr>\n",
       "      <th>581743</th>\n",
       "      <td>12</td>\n",
       "      <td>31</td>\n",
       "      <td>2</td>\n",
       "      <td>1503</td>\n",
       "      <td>N913JB</td>\n",
       "      <td>JFK</td>\n",
       "      <td>SJU</td>\n",
       "      <td>221.0</td>\n",
       "      <td>0</td>\n",
       "      <td>NaN</td>\n",
       "      <td>NaN</td>\n",
       "      <td>NaN</td>\n",
       "      <td>NaN</td>\n",
       "      <td>NaN</td>\n",
       "      <td>NaN</td>\n",
       "      <td>1598</td>\n",
       "      <td>79</td>\n",
       "      <td>163</td>\n",
       "    </tr>\n",
       "    <tr>\n",
       "      <th>581744</th>\n",
       "      <td>12</td>\n",
       "      <td>31</td>\n",
       "      <td>2</td>\n",
       "      <td>333</td>\n",
       "      <td>N527JB</td>\n",
       "      <td>MCO</td>\n",
       "      <td>SJU</td>\n",
       "      <td>161.0</td>\n",
       "      <td>0</td>\n",
       "      <td>NaN</td>\n",
       "      <td>NaN</td>\n",
       "      <td>NaN</td>\n",
       "      <td>NaN</td>\n",
       "      <td>NaN</td>\n",
       "      <td>NaN</td>\n",
       "      <td>1189</td>\n",
       "      <td>131</td>\n",
       "      <td>163</td>\n",
       "    </tr>\n",
       "    <tr>\n",
       "      <th>581745</th>\n",
       "      <td>12</td>\n",
       "      <td>31</td>\n",
       "      <td>2</td>\n",
       "      <td>839</td>\n",
       "      <td>N534JB</td>\n",
       "      <td>JFK</td>\n",
       "      <td>BQN</td>\n",
       "      <td>221.0</td>\n",
       "      <td>0</td>\n",
       "      <td>NaN</td>\n",
       "      <td>NaN</td>\n",
       "      <td>NaN</td>\n",
       "      <td>NaN</td>\n",
       "      <td>NaN</td>\n",
       "      <td>NaN</td>\n",
       "      <td>1576</td>\n",
       "      <td>79</td>\n",
       "      <td>217</td>\n",
       "    </tr>\n",
       "  </tbody>\n",
       "</table>\n",
       "<p>581746 rows × 18 columns</p>\n",
       "</div>"
      ],
      "text/plain": [
       "        MONTH  DAY  AIRLINE  FLIGHT_NUMBER TAIL_NUMBER ORIGIN_AIRPORT  \\\n",
       "0           1    1        7           3303      N678MQ            DFW   \n",
       "1           1    1        8            295      N521NK            ORD   \n",
       "2           1    1        9           2610      N866AS            LAX   \n",
       "3           1    1        9           5343      N584SW            LAX   \n",
       "4           1    1        9           4443      N455SW            CVG   \n",
       "...       ...  ...      ...            ...         ...            ...   \n",
       "581741     12   31        2            688      N657JB            LAX   \n",
       "581742     12   31        2            745      N828JB            JFK   \n",
       "581743     12   31        2           1503      N913JB            JFK   \n",
       "581744     12   31        2            333      N527JB            MCO   \n",
       "581745     12   31        2            839      N534JB            JFK   \n",
       "\n",
       "       DESTINATION_AIRPORT  SCHEDULED_TIME  Flight_Status CANCELLATION_REASON  \\\n",
       "0                      GJT           133.0              0                 NaN   \n",
       "1                      IAH           167.0              0                 NaN   \n",
       "2                      FAT            55.0              0                 NaN   \n",
       "3                      SBP            59.0              0                 NaN   \n",
       "4                      MKE            83.0              0                 NaN   \n",
       "...                    ...             ...            ...                 ...   \n",
       "581741                 BOS           320.0              0                 NaN   \n",
       "581742                 PSE           227.0              0                 NaN   \n",
       "581743                 SJU           221.0              0                 NaN   \n",
       "581744                 SJU           161.0              0                 NaN   \n",
       "581745                 BQN           221.0              0                 NaN   \n",
       "\n",
       "        AIR_SYSTEM_DELAY  SECURITY_DELAY  AIRLINE_DELAY  LATE_AIRCRAFT_DELAY  \\\n",
       "0                    0.0             0.0           22.0                 22.0   \n",
       "1                   26.0             0.0            0.0                  0.0   \n",
       "2                    NaN             NaN            NaN                  NaN   \n",
       "3                    NaN             NaN            NaN                  NaN   \n",
       "4                    NaN             NaN            NaN                  NaN   \n",
       "...                  ...             ...            ...                  ...   \n",
       "581741               NaN             NaN            NaN                  NaN   \n",
       "581742               NaN             NaN            NaN                  NaN   \n",
       "581743               NaN             NaN            NaN                  NaN   \n",
       "581744               NaN             NaN            NaN                  NaN   \n",
       "581745               NaN             NaN            NaN                  NaN   \n",
       "\n",
       "        WEATHER_DELAY  DISTANCE  ORIGIN_AIRPORT_NAME  DESTINATION_AIRPORT_NAME  \n",
       "0                 0.0       773                   44                       108  \n",
       "1                 0.0       925                   37                       102  \n",
       "2                 NaN       209                   96                        95  \n",
       "3                 NaN       156                   96                       239  \n",
       "4                 NaN       318                   38                       100  \n",
       "...               ...       ...                  ...                       ...  \n",
       "581741            NaN      2611                   96                        99  \n",
       "581742            NaN      1617                   79                       175  \n",
       "581743            NaN      1598                   79                       163  \n",
       "581744            NaN      1189                  131                       163  \n",
       "581745            NaN      1576                   79                       217  \n",
       "\n",
       "[581746 rows x 18 columns]"
      ]
     },
     "execution_count": 10,
     "metadata": {},
     "output_type": "execute_result"
    }
   ],
   "source": [
    "flights_df"
   ]
  },
  {
   "cell_type": "markdown",
   "id": "32f36afd",
   "metadata": {
    "id": "32f36afd"
   },
   "source": [
    "# Data Analysis"
   ]
  },
  {
   "cell_type": "code",
   "execution_count": 11,
   "id": "b8002622",
   "metadata": {
    "colab": {
     "base_uri": "https://localhost:8080/"
    },
    "id": "b8002622",
    "outputId": "9c566e17-31f8-4568-d41b-2882c5192a0e"
   },
   "outputs": [
    {
     "data": {
      "text/plain": [
       "MONTH                       False\n",
       "DAY                         False\n",
       "AIRLINE                     False\n",
       "FLIGHT_NUMBER               False\n",
       "TAIL_NUMBER                  True\n",
       "ORIGIN_AIRPORT              False\n",
       "DESTINATION_AIRPORT         False\n",
       "SCHEDULED_TIME               True\n",
       "Flight_Status               False\n",
       "CANCELLATION_REASON          True\n",
       "AIR_SYSTEM_DELAY             True\n",
       "SECURITY_DELAY               True\n",
       "AIRLINE_DELAY                True\n",
       "LATE_AIRCRAFT_DELAY          True\n",
       "WEATHER_DELAY                True\n",
       "DISTANCE                    False\n",
       "ORIGIN_AIRPORT_NAME         False\n",
       "DESTINATION_AIRPORT_NAME    False\n",
       "dtype: bool"
      ]
     },
     "execution_count": 11,
     "metadata": {},
     "output_type": "execute_result"
    }
   ],
   "source": [
    "# Is data has null or missing values\n",
    "flights_df.isna().any()"
   ]
  },
  {
   "cell_type": "code",
   "execution_count": 12,
   "id": "d710218c",
   "metadata": {
    "colab": {
     "base_uri": "https://localhost:8080/"
    },
    "id": "d710218c",
    "outputId": "1b04edc9-8428-4cca-9ef8-ad0b680c0656"
   },
   "outputs": [
    {
     "name": "stdout",
     "output_type": "stream",
     "text": [
      "\n",
      "Missing values:\n",
      "MONTH                            0\n",
      "DAY                              0\n",
      "AIRLINE                          0\n",
      "FLIGHT_NUMBER                    0\n",
      "TAIL_NUMBER                   1428\n",
      "ORIGIN_AIRPORT                   0\n",
      "DESTINATION_AIRPORT              0\n",
      "SCHEDULED_TIME                   4\n",
      "Flight_Status                    0\n",
      "CANCELLATION_REASON         570758\n",
      "AIR_SYSTEM_DELAY            445682\n",
      "SECURITY_DELAY              445682\n",
      "AIRLINE_DELAY               445682\n",
      "LATE_AIRCRAFT_DELAY         445682\n",
      "WEATHER_DELAY               445682\n",
      "DISTANCE                         0\n",
      "ORIGIN_AIRPORT_NAME              0\n",
      "DESTINATION_AIRPORT_NAME         0\n",
      "dtype: int64\n"
     ]
    }
   ],
   "source": [
    "print(\"\\nMissing values:\")\n",
    "print(flights_df.isnull().sum())"
   ]
  },
  {
   "cell_type": "code",
   "execution_count": 13,
   "id": "cfd6c205",
   "metadata": {
    "id": "cfd6c205"
   },
   "outputs": [],
   "source": [
    "# Handle missing values\n",
    "flights_df.fillna(-1, inplace=True)"
   ]
  },
  {
   "cell_type": "code",
   "execution_count": 14,
   "id": "44394efc",
   "metadata": {
    "colab": {
     "base_uri": "https://localhost:8080/"
    },
    "id": "44394efc",
    "outputId": "e9f0b623-d308-4d8a-94e5-b90c5565d94f"
   },
   "outputs": [
    {
     "data": {
      "text/plain": [
       "MONTH                       False\n",
       "DAY                         False\n",
       "AIRLINE                     False\n",
       "FLIGHT_NUMBER               False\n",
       "TAIL_NUMBER                 False\n",
       "ORIGIN_AIRPORT              False\n",
       "DESTINATION_AIRPORT         False\n",
       "SCHEDULED_TIME              False\n",
       "Flight_Status               False\n",
       "CANCELLATION_REASON         False\n",
       "AIR_SYSTEM_DELAY            False\n",
       "SECURITY_DELAY              False\n",
       "AIRLINE_DELAY               False\n",
       "LATE_AIRCRAFT_DELAY         False\n",
       "WEATHER_DELAY               False\n",
       "DISTANCE                    False\n",
       "ORIGIN_AIRPORT_NAME         False\n",
       "DESTINATION_AIRPORT_NAME    False\n",
       "dtype: bool"
      ]
     },
     "execution_count": 14,
     "metadata": {},
     "output_type": "execute_result"
    }
   ],
   "source": [
    "# Is data has null or missing values\n",
    "flights_df.isna().any()"
   ]
  },
  {
   "cell_type": "code",
   "execution_count": 15,
   "id": "87f711c8",
   "metadata": {
    "id": "87f711c8"
   },
   "outputs": [],
   "source": [
    "# Sample data (50% of the original data)\n",
    "sampled_flights_df = flights_df.sample(frac=1, random_state=42)"
   ]
  },
  {
   "cell_type": "code",
   "execution_count": 16,
   "id": "060a6b44",
   "metadata": {
    "colab": {
     "base_uri": "https://localhost:8080/"
    },
    "id": "060a6b44",
    "outputId": "698c5ae4-4b96-4e9f-f871-5ef979c723d6"
   },
   "outputs": [
    {
     "name": "stdout",
     "output_type": "stream",
     "text": [
      "Summary statistics:\n",
      "               MONTH            DAY        AIRLINE  FLIGHT_NUMBER  \\\n",
      "count  581746.000000  581746.000000  581746.000000  581746.000000   \n",
      "mean        6.523995      15.704655       6.735890    1998.553611   \n",
      "std         3.405153       8.783496       4.688129    1690.845565   \n",
      "min         1.000000       1.000000       0.000000       2.000000   \n",
      "25%         4.000000       8.000000       3.000000     678.000000   \n",
      "50%         7.000000      16.000000       7.000000    1529.000000   \n",
      "75%         9.000000      23.000000      11.000000    2766.000000   \n",
      "max        12.000000      31.000000      13.000000    8410.000000   \n",
      "\n",
      "       SCHEDULED_TIME  Flight_Status  AIR_SYSTEM_DELAY  SECURITY_DELAY  \\\n",
      "count   581746.000000  581746.000000     581746.000000   581746.000000   \n",
      "mean       143.449660       0.018888          1.234724       -0.746114   \n",
      "std         84.090772       0.136130         10.380208        1.160503   \n",
      "min         -1.000000       0.000000         -1.000000       -1.000000   \n",
      "25%         80.000000       0.000000         -1.000000       -1.000000   \n",
      "50%        115.000000       0.000000         -1.000000       -1.000000   \n",
      "75%        177.000000       0.000000         -1.000000       -1.000000   \n",
      "max        587.000000       1.000000        643.000000      221.000000   \n",
      "\n",
      "       AIRLINE_DELAY  LATE_AIRCRAFT_DELAY  WEATHER_DELAY       DISTANCE  \\\n",
      "count  581746.000000        581746.000000  581746.000000  581746.000000   \n",
      "mean        3.204703             5.695094      -0.105943     875.220858   \n",
      "std        19.458004            23.097974       9.714951     721.120140   \n",
      "min        -1.000000            -1.000000      -1.000000      36.000000   \n",
      "25%        -1.000000            -1.000000      -1.000000     347.000000   \n",
      "50%        -1.000000            -1.000000      -1.000000     616.000000   \n",
      "75%        -1.000000            -1.000000      -1.000000    1107.000000   \n",
      "max      1323.000000          1174.000000     819.000000    4962.000000   \n",
      "\n",
      "       ORIGIN_AIRPORT_NAME  DESTINATION_AIRPORT_NAME  \n",
      "count        581746.000000             581746.000000  \n",
      "mean             99.467369                162.627992  \n",
      "std              55.713663                 84.109468  \n",
      "min               0.000000                  0.000000  \n",
      "25%              47.000000                 93.000000  \n",
      "50%              89.000000                169.000000  \n",
      "75%             143.000000                233.000000  \n",
      "max             203.000000                295.000000  \n"
     ]
    }
   ],
   "source": [
    "print(\"Summary statistics:\")\n",
    "print(sampled_flights_df.describe())"
   ]
  },
  {
   "cell_type": "code",
   "execution_count": 17,
   "id": "62f09c21",
   "metadata": {
    "colab": {
     "base_uri": "https://localhost:8080/"
    },
    "id": "62f09c21",
    "outputId": "f65a9cbe-948c-4945-b58a-a235d33e4786"
   },
   "outputs": [
    {
     "name": "stdout",
     "output_type": "stream",
     "text": [
      "<class 'pandas.core.frame.DataFrame'>\n",
      "Int64Index: 581746 entries, 187108 to 121958\n",
      "Data columns (total 18 columns):\n",
      " #   Column                    Non-Null Count   Dtype  \n",
      "---  ------                    --------------   -----  \n",
      " 0   MONTH                     581746 non-null  int64  \n",
      " 1   DAY                       581746 non-null  int64  \n",
      " 2   AIRLINE                   581746 non-null  int32  \n",
      " 3   FLIGHT_NUMBER             581746 non-null  int64  \n",
      " 4   TAIL_NUMBER               581746 non-null  object \n",
      " 5   ORIGIN_AIRPORT            581746 non-null  object \n",
      " 6   DESTINATION_AIRPORT       581746 non-null  object \n",
      " 7   SCHEDULED_TIME            581746 non-null  float64\n",
      " 8   Flight_Status             581746 non-null  int64  \n",
      " 9   CANCELLATION_REASON       581746 non-null  object \n",
      " 10  AIR_SYSTEM_DELAY          581746 non-null  float64\n",
      " 11  SECURITY_DELAY            581746 non-null  float64\n",
      " 12  AIRLINE_DELAY             581746 non-null  float64\n",
      " 13  LATE_AIRCRAFT_DELAY       581746 non-null  float64\n",
      " 14  WEATHER_DELAY             581746 non-null  float64\n",
      " 15  DISTANCE                  581746 non-null  int64  \n",
      " 16  ORIGIN_AIRPORT_NAME       581746 non-null  int32  \n",
      " 17  DESTINATION_AIRPORT_NAME  581746 non-null  int32  \n",
      "dtypes: float64(6), int32(3), int64(5), object(4)\n",
      "memory usage: 77.7+ MB\n"
     ]
    }
   ],
   "source": [
    "sampled_flights_df.info()"
   ]
  },
  {
   "cell_type": "code",
   "execution_count": 18,
   "id": "70ddae07",
   "metadata": {
    "colab": {
     "base_uri": "https://localhost:8080/",
     "height": 320
    },
    "id": "70ddae07",
    "outputId": "fe17b0f3-6827-4b85-bf21-51a26c5a98bc"
   },
   "outputs": [
    {
     "data": {
      "text/html": [
       "<div>\n",
       "<style scoped>\n",
       "    .dataframe tbody tr th:only-of-type {\n",
       "        vertical-align: middle;\n",
       "    }\n",
       "\n",
       "    .dataframe tbody tr th {\n",
       "        vertical-align: top;\n",
       "    }\n",
       "\n",
       "    .dataframe thead th {\n",
       "        text-align: right;\n",
       "    }\n",
       "</style>\n",
       "<table border=\"1\" class=\"dataframe\">\n",
       "  <thead>\n",
       "    <tr style=\"text-align: right;\">\n",
       "      <th></th>\n",
       "      <th>MONTH</th>\n",
       "      <th>DAY</th>\n",
       "      <th>AIRLINE</th>\n",
       "      <th>FLIGHT_NUMBER</th>\n",
       "      <th>SCHEDULED_TIME</th>\n",
       "      <th>Flight_Status</th>\n",
       "      <th>AIR_SYSTEM_DELAY</th>\n",
       "      <th>SECURITY_DELAY</th>\n",
       "      <th>AIRLINE_DELAY</th>\n",
       "      <th>LATE_AIRCRAFT_DELAY</th>\n",
       "      <th>WEATHER_DELAY</th>\n",
       "      <th>DISTANCE</th>\n",
       "      <th>ORIGIN_AIRPORT_NAME</th>\n",
       "      <th>DESTINATION_AIRPORT_NAME</th>\n",
       "    </tr>\n",
       "  </thead>\n",
       "  <tbody>\n",
       "    <tr>\n",
       "      <th>count</th>\n",
       "      <td>581746.000000</td>\n",
       "      <td>581746.000000</td>\n",
       "      <td>581746.000000</td>\n",
       "      <td>581746.000000</td>\n",
       "      <td>581746.000000</td>\n",
       "      <td>581746.000000</td>\n",
       "      <td>581746.000000</td>\n",
       "      <td>581746.000000</td>\n",
       "      <td>581746.000000</td>\n",
       "      <td>581746.000000</td>\n",
       "      <td>581746.000000</td>\n",
       "      <td>581746.000000</td>\n",
       "      <td>581746.000000</td>\n",
       "      <td>581746.000000</td>\n",
       "    </tr>\n",
       "    <tr>\n",
       "      <th>mean</th>\n",
       "      <td>6.523995</td>\n",
       "      <td>15.704655</td>\n",
       "      <td>6.735890</td>\n",
       "      <td>1998.553611</td>\n",
       "      <td>143.449660</td>\n",
       "      <td>0.018888</td>\n",
       "      <td>1.234724</td>\n",
       "      <td>-0.746114</td>\n",
       "      <td>3.204703</td>\n",
       "      <td>5.695094</td>\n",
       "      <td>-0.105943</td>\n",
       "      <td>875.220858</td>\n",
       "      <td>99.467369</td>\n",
       "      <td>162.627992</td>\n",
       "    </tr>\n",
       "    <tr>\n",
       "      <th>std</th>\n",
       "      <td>3.405153</td>\n",
       "      <td>8.783496</td>\n",
       "      <td>4.688129</td>\n",
       "      <td>1690.845565</td>\n",
       "      <td>84.090772</td>\n",
       "      <td>0.136130</td>\n",
       "      <td>10.380208</td>\n",
       "      <td>1.160503</td>\n",
       "      <td>19.458004</td>\n",
       "      <td>23.097974</td>\n",
       "      <td>9.714951</td>\n",
       "      <td>721.120140</td>\n",
       "      <td>55.713663</td>\n",
       "      <td>84.109468</td>\n",
       "    </tr>\n",
       "    <tr>\n",
       "      <th>min</th>\n",
       "      <td>1.000000</td>\n",
       "      <td>1.000000</td>\n",
       "      <td>0.000000</td>\n",
       "      <td>2.000000</td>\n",
       "      <td>-1.000000</td>\n",
       "      <td>0.000000</td>\n",
       "      <td>-1.000000</td>\n",
       "      <td>-1.000000</td>\n",
       "      <td>-1.000000</td>\n",
       "      <td>-1.000000</td>\n",
       "      <td>-1.000000</td>\n",
       "      <td>36.000000</td>\n",
       "      <td>0.000000</td>\n",
       "      <td>0.000000</td>\n",
       "    </tr>\n",
       "    <tr>\n",
       "      <th>25%</th>\n",
       "      <td>4.000000</td>\n",
       "      <td>8.000000</td>\n",
       "      <td>3.000000</td>\n",
       "      <td>678.000000</td>\n",
       "      <td>80.000000</td>\n",
       "      <td>0.000000</td>\n",
       "      <td>-1.000000</td>\n",
       "      <td>-1.000000</td>\n",
       "      <td>-1.000000</td>\n",
       "      <td>-1.000000</td>\n",
       "      <td>-1.000000</td>\n",
       "      <td>347.000000</td>\n",
       "      <td>47.000000</td>\n",
       "      <td>93.000000</td>\n",
       "    </tr>\n",
       "    <tr>\n",
       "      <th>50%</th>\n",
       "      <td>7.000000</td>\n",
       "      <td>16.000000</td>\n",
       "      <td>7.000000</td>\n",
       "      <td>1529.000000</td>\n",
       "      <td>115.000000</td>\n",
       "      <td>0.000000</td>\n",
       "      <td>-1.000000</td>\n",
       "      <td>-1.000000</td>\n",
       "      <td>-1.000000</td>\n",
       "      <td>-1.000000</td>\n",
       "      <td>-1.000000</td>\n",
       "      <td>616.000000</td>\n",
       "      <td>89.000000</td>\n",
       "      <td>169.000000</td>\n",
       "    </tr>\n",
       "    <tr>\n",
       "      <th>75%</th>\n",
       "      <td>9.000000</td>\n",
       "      <td>23.000000</td>\n",
       "      <td>11.000000</td>\n",
       "      <td>2766.000000</td>\n",
       "      <td>177.000000</td>\n",
       "      <td>0.000000</td>\n",
       "      <td>-1.000000</td>\n",
       "      <td>-1.000000</td>\n",
       "      <td>-1.000000</td>\n",
       "      <td>-1.000000</td>\n",
       "      <td>-1.000000</td>\n",
       "      <td>1107.000000</td>\n",
       "      <td>143.000000</td>\n",
       "      <td>233.000000</td>\n",
       "    </tr>\n",
       "    <tr>\n",
       "      <th>max</th>\n",
       "      <td>12.000000</td>\n",
       "      <td>31.000000</td>\n",
       "      <td>13.000000</td>\n",
       "      <td>8410.000000</td>\n",
       "      <td>587.000000</td>\n",
       "      <td>1.000000</td>\n",
       "      <td>643.000000</td>\n",
       "      <td>221.000000</td>\n",
       "      <td>1323.000000</td>\n",
       "      <td>1174.000000</td>\n",
       "      <td>819.000000</td>\n",
       "      <td>4962.000000</td>\n",
       "      <td>203.000000</td>\n",
       "      <td>295.000000</td>\n",
       "    </tr>\n",
       "  </tbody>\n",
       "</table>\n",
       "</div>"
      ],
      "text/plain": [
       "               MONTH            DAY        AIRLINE  FLIGHT_NUMBER  \\\n",
       "count  581746.000000  581746.000000  581746.000000  581746.000000   \n",
       "mean        6.523995      15.704655       6.735890    1998.553611   \n",
       "std         3.405153       8.783496       4.688129    1690.845565   \n",
       "min         1.000000       1.000000       0.000000       2.000000   \n",
       "25%         4.000000       8.000000       3.000000     678.000000   \n",
       "50%         7.000000      16.000000       7.000000    1529.000000   \n",
       "75%         9.000000      23.000000      11.000000    2766.000000   \n",
       "max        12.000000      31.000000      13.000000    8410.000000   \n",
       "\n",
       "       SCHEDULED_TIME  Flight_Status  AIR_SYSTEM_DELAY  SECURITY_DELAY  \\\n",
       "count   581746.000000  581746.000000     581746.000000   581746.000000   \n",
       "mean       143.449660       0.018888          1.234724       -0.746114   \n",
       "std         84.090772       0.136130         10.380208        1.160503   \n",
       "min         -1.000000       0.000000         -1.000000       -1.000000   \n",
       "25%         80.000000       0.000000         -1.000000       -1.000000   \n",
       "50%        115.000000       0.000000         -1.000000       -1.000000   \n",
       "75%        177.000000       0.000000         -1.000000       -1.000000   \n",
       "max        587.000000       1.000000        643.000000      221.000000   \n",
       "\n",
       "       AIRLINE_DELAY  LATE_AIRCRAFT_DELAY  WEATHER_DELAY       DISTANCE  \\\n",
       "count  581746.000000        581746.000000  581746.000000  581746.000000   \n",
       "mean        3.204703             5.695094      -0.105943     875.220858   \n",
       "std        19.458004            23.097974       9.714951     721.120140   \n",
       "min        -1.000000            -1.000000      -1.000000      36.000000   \n",
       "25%        -1.000000            -1.000000      -1.000000     347.000000   \n",
       "50%        -1.000000            -1.000000      -1.000000     616.000000   \n",
       "75%        -1.000000            -1.000000      -1.000000    1107.000000   \n",
       "max      1323.000000          1174.000000     819.000000    4962.000000   \n",
       "\n",
       "       ORIGIN_AIRPORT_NAME  DESTINATION_AIRPORT_NAME  \n",
       "count        581746.000000             581746.000000  \n",
       "mean             99.467369                162.627992  \n",
       "std              55.713663                 84.109468  \n",
       "min               0.000000                  0.000000  \n",
       "25%              47.000000                 93.000000  \n",
       "50%              89.000000                169.000000  \n",
       "75%             143.000000                233.000000  \n",
       "max             203.000000                295.000000  "
      ]
     },
     "execution_count": 18,
     "metadata": {},
     "output_type": "execute_result"
    }
   ],
   "source": [
    "sampled_flights_df.describe()"
   ]
  },
  {
   "cell_type": "code",
   "execution_count": 19,
   "id": "CsYlQG2jDCvQ",
   "metadata": {
    "colab": {
     "base_uri": "https://localhost:8080/",
     "height": 677
    },
    "id": "CsYlQG2jDCvQ",
    "outputId": "a4bfe4ac-94d3-424e-b855-9332be4cd125"
   },
   "outputs": [
    {
     "data": {
      "image/png": "[encoded data removed]",
      "text/plain": [
       "<Figure size 1728x864 with 2 Axes>"
      ]
     },
     "metadata": {
      "needs_background": "light"
     },
     "output_type": "display_data"
    }
   ],
   "source": [
    "import matplotlib.pyplot as plt\n",
    "import seaborn as sns\n",
    "\n",
    "# Drop non-numeric columns\n",
    "numeric_flights_df = sampled_flights_df.select_dtypes(include=['number'])\n",
    "\n",
    "# Plot correlation matrix\n",
    "plt.figure(figsize=(24, 12))\n",
    "sns.heatmap(numeric_flights_df.corr(), annot=True, cmap='coolwarm')\n",
    "plt.title('Correlation Matrix')\n",
    "plt.show()"
   ]
  },
  {
   "cell_type": "code",
   "execution_count": 20,
   "id": "6aa348a1",
   "metadata": {
    "id": "6aa348a1"
   },
   "outputs": [],
   "source": [
    "# Select relevant features and target variable\n",
    "reduced_features = ['MONTH', 'DAY', 'AIRLINE', 'ORIGIN_AIRPORT_NAME', 'DESTINATION_AIRPORT_NAME', 'SCHEDULED_TIME', 'DISTANCE']\n",
    "target = 'Flight_Status'\n",
    "X = sampled_flights_df[reduced_features]\n",
    "y = sampled_flights_df[target]"
   ]
  },
  {
   "cell_type": "code",
   "execution_count": 21,
   "id": "714b0ab5",
   "metadata": {
    "colab": {
     "base_uri": "https://localhost:8080/"
    },
    "id": "714b0ab5",
    "outputId": "8f688f4a-edc7-4d1b-eb0e-784aa70e1b6c"
   },
   "outputs": [
    {
     "data": {
      "text/plain": [
       "0    570758\n",
       "1     10988\n",
       "Name: Flight_Status, dtype: int64"
      ]
     },
     "execution_count": 21,
     "metadata": {},
     "output_type": "execute_result"
    }
   ],
   "source": [
    "y.value_counts(sort=True)"
   ]
  },
  {
   "cell_type": "code",
   "execution_count": 22,
   "id": "9a457df2",
   "metadata": {
    "colab": {
     "base_uri": "https://localhost:8080/",
     "height": 472
    },
    "id": "9a457df2",
    "outputId": "4956a6aa-cd75-4e15-bdc8-38271638741d"
   },
   "outputs": [
    {
     "data": {
      "image/png": "[encoded data removed]",
      "text/plain": [
       "<Figure size 432x288 with 1 Axes>"
      ]
     },
     "metadata": {
      "needs_background": "light"
     },
     "output_type": "display_data"
    }
   ],
   "source": [
    "# Plot the distribution of Flight_Status\n",
    "sns.countplot(x='Flight_Status', data=sampled_flights_df)\n",
    "plt.title('Distribution of Flight Status (Label data set)')\n",
    "plt.xlabel('Flight Status')\n",
    "plt.ylabel('Count')\n",
    "plt.show()"
   ]
  },
  {
   "cell_type": "code",
   "execution_count": 23,
   "id": "weqPpgLCLAvM",
   "metadata": {
    "colab": {
     "base_uri": "https://localhost:8080/"
    },
    "id": "weqPpgLCLAvM",
    "outputId": "11cb18fe-94a8-4474-a924-5d291c4287f8"
   },
   "outputs": [
    {
     "name": "stderr",
     "output_type": "stream",
     "text": [
      "C:\\Users\\DELL\\AppData\\Local\\Temp\\ipykernel_17604\\3425717703.py:2: UserWarning: Boolean Series key will be reindexed to match DataFrame index.\n",
      "  df_majority = flights_df[y == 0]\n",
      "C:\\Users\\DELL\\AppData\\Local\\Temp\\ipykernel_17604\\3425717703.py:3: UserWarning: Boolean Series key will be reindexed to match DataFrame index.\n",
      "  df_minority = flights_df[y == 1]\n"
     ]
    }
   ],
   "source": [
    "# Separate majority and minority classes\n",
    "df_majority = flights_df[y == 0]\n",
    "df_minority = flights_df[y == 1]"
   ]
  },
  {
   "cell_type": "code",
   "execution_count": 24,
   "id": "T10k0oyvLEix",
   "metadata": {
    "id": "T10k0oyvLEix"
   },
   "outputs": [],
   "source": [
    "# Downsample majority class\n",
    "df_majority_downsampled = df_majority.sample(n=10988, random_state=42)"
   ]
  },
  {
   "cell_type": "code",
   "execution_count": 25,
   "id": "bcWQGIkxLEoK",
   "metadata": {
    "id": "bcWQGIkxLEoK"
   },
   "outputs": [],
   "source": [
    "# Combine minority class with downsampled majority class\n",
    "df_balanced = pd.concat([df_majority_downsampled, df_minority])"
   ]
  },
  {
   "cell_type": "code",
   "execution_count": 26,
   "id": "WmCmq9HFLEq5",
   "metadata": {
    "id": "WmCmq9HFLEq5"
   },
   "outputs": [],
   "source": [
    "# Separate features and target variable from the balanced dataset\n",
    "X_balanced = df_balanced[reduced_features]\n",
    "y_balanced = df_balanced[target]"
   ]
  },
  {
   "cell_type": "code",
   "execution_count": 27,
   "id": "Fw5TZ7QRLjkz",
   "metadata": {
    "colab": {
     "base_uri": "https://localhost:8080/"
    },
    "id": "Fw5TZ7QRLjkz",
    "outputId": "28d142ec-2468-4bfe-8f07-7f6045a48c1e"
   },
   "outputs": [
    {
     "data": {
      "text/plain": [
       "0    10988\n",
       "1    10988\n",
       "Name: Flight_Status, dtype: int64"
      ]
     },
     "execution_count": 27,
     "metadata": {},
     "output_type": "execute_result"
    }
   ],
   "source": [
    "y_balanced.value_counts(sort=True)"
   ]
  },
  {
   "cell_type": "code",
   "execution_count": 28,
   "id": "RwcESmmCLuUo",
   "metadata": {
    "colab": {
     "base_uri": "https://localhost:8080/",
     "height": 472
    },
    "id": "RwcESmmCLuUo",
    "outputId": "1e9ec9fc-d734-4e01-da30-5e742b6086ea"
   },
   "outputs": [
    {
     "data": {
      "image/png": "[encoded data removed]",
      "text/plain": [
       "<Figure size 432x288 with 1 Axes>"
      ]
     },
     "metadata": {
      "needs_background": "light"
     },
     "output_type": "display_data"
    }
   ],
   "source": [
    "# Plot the distribution of Flight_Status\n",
    "sns.countplot(x='Flight_Status', data=df_balanced)\n",
    "plt.title('Distribution of Flight Status (Label data set)')\n",
    "plt.xlabel('Flight Status')\n",
    "plt.ylabel('Count')\n",
    "plt.show()"
   ]
  },
  {
   "cell_type": "code",
   "execution_count": 29,
   "id": "1e25c205",
   "metadata": {
    "id": "1e25c205"
   },
   "outputs": [],
   "source": [
    "# Split data into training and testing sets (80% train, 20% test)\n",
    "X_train, X_test, y_train, y_test = train_test_split(X_balanced, y_balanced, test_size=0.2, random_state=42)"
   ]
  },
  {
   "cell_type": "code",
   "execution_count": 30,
   "id": "2364da0a",
   "metadata": {
    "id": "2364da0a"
   },
   "outputs": [],
   "source": [
    "# Further split the training data into training and validation sets (80% train, 20% validation)\n",
    "X_train, X_val, y_train, y_val = train_test_split(X_train, y_train, test_size=0.25, random_state=42)  # 0.25 x 0.8 = 0.2"
   ]
  },
  {
   "cell_type": "code",
   "execution_count": 31,
   "id": "a73a4aed",
   "metadata": {
    "id": "a73a4aed"
   },
   "outputs": [],
   "source": [
    "# Scale features\n",
    "scaler = StandardScaler()\n",
    "X_train = scaler.fit_transform(X_train)\n",
    "X_val = scaler.transform(X_val)\n",
    "X_test = scaler.transform(X_test)"
   ]
  },
  {
   "cell_type": "markdown",
   "id": "aee569c9",
   "metadata": {
    "id": "aee569c9"
   },
   "source": [
    "# Model Training"
   ]
  },
  {
   "cell_type": "code",
   "execution_count": 32,
   "id": "1444ffd7",
   "metadata": {
    "id": "1444ffd7"
   },
   "outputs": [],
   "source": [
    "# I will search in three linear classifiers\n",
    "# 1- Random Forest Classifier\n",
    "from sklearn.ensemble import RandomForestClassifier\n",
    "# for making classification_report, confusion_matrix\n",
    "from sklearn.metrics import classification_report, confusion_matrix\n",
    "# 2- Support Vector Machine Classifier\n",
    "from sklearn.svm import SVC\n",
    "# 3- Decision Tree Classifier\n",
    "from sklearn.tree import DecisionTreeClassifier\n",
    "# For select best model\n",
    "from sklearn.model_selection import GridSearchCV"
   ]
  },
  {
   "cell_type": "code",
   "execution_count": 33,
   "id": "37d0a2d5",
   "metadata": {
    "id": "37d0a2d5"
   },
   "outputs": [],
   "source": [
    "model_params = {\n",
    "    'svm':{\n",
    "        'model':SVC(),\n",
    "        'params':{\n",
    "                'kernel': ['linear','poly'],\n",
    "                'C': [1, 5, 10]\n",
    "        }\n",
    "\n",
    "    },\n",
    "    'rfc':{\n",
    "        'model':RandomForestClassifier(),\n",
    "        'params':{\n",
    "            'n_estimators':[1,5,10]\n",
    "        }\n",
    "    },\n",
    "   'dtc':{\n",
    "       'model':DecisionTreeClassifier(),\n",
    "       'params':{\n",
    "            'max_depth':[3,5,10],\n",
    "            'criterion' : ['gini','entropy']\n",
    "       }\n",
    "   }\n",
    "\n",
    "}"
   ]
  },
  {
   "cell_type": "code",
   "execution_count": 34,
   "id": "159f9e1e",
   "metadata": {
    "id": "159f9e1e"
   },
   "outputs": [],
   "source": [
    "scores = []\n",
    "for model_name, mp in model_params.items():\n",
    "    clf = GridSearchCV(mp['model'],mp['params'],cv=5,return_train_score=False)\n",
    "    clf.fit(X_train,y_train)\n",
    "    scores.append({\n",
    "        'model':model_name,\n",
    "        'best_score':clf.best_score_,\n",
    "        'best_params':clf.best_params_\n",
    "    })"
   ]
  },
  {
   "cell_type": "code",
   "execution_count": 35,
   "id": "876e308e",
   "metadata": {
    "colab": {
     "base_uri": "https://localhost:8080/"
    },
    "id": "876e308e",
    "outputId": "f9dca311-bb58-4562-d76e-a29dee3a5bd9"
   },
   "outputs": [
    {
     "data": {
      "text/plain": [
       "[{'model': 'svm',\n",
       "  'best_score': 0.6347364429275691,\n",
       "  'best_params': {'C': 10, 'kernel': 'poly'}},\n",
       " {'model': 'rfc',\n",
       "  'best_score': 0.7334850208570345,\n",
       "  'best_params': {'n_estimators': 10}},\n",
       " {'model': 'dtc',\n",
       "  'best_score': 0.7318923018581722,\n",
       "  'best_params': {'criterion': 'gini', 'max_depth': 10}}]"
      ]
     },
     "execution_count": 35,
     "metadata": {},
     "output_type": "execute_result"
    }
   ],
   "source": [
    "scores"
   ]
  },
  {
   "cell_type": "markdown",
   "id": "dc60357d",
   "metadata": {
    "id": "dc60357d"
   },
   "source": [
    "# Choose the best model"
   ]
  },
  {
   "cell_type": "code",
   "execution_count": 36,
   "id": "b38bab8c",
   "metadata": {
    "id": "b38bab8c"
   },
   "outputs": [],
   "source": [
    "# Find the best performing model\n",
    "best_model_info = max(scores, key=lambda x: x['best_score'])\n",
    "best_model_name = best_model_info['model']\n",
    "best_model_params = best_model_info['best_params']"
   ]
  },
  {
   "cell_type": "code",
   "execution_count": 37,
   "id": "bc82aabb",
   "metadata": {
    "colab": {
     "base_uri": "https://localhost:8080/",
     "height": 74
    },
    "id": "bc82aabb",
    "outputId": "be9cfc18-44ae-4299-f841-7590a4ffdfdc"
   },
   "outputs": [
    {
     "data": {
      "text/plain": [
       "RandomForestClassifier(n_estimators=10, random_state=42)"
      ]
     },
     "execution_count": 37,
     "metadata": {},
     "output_type": "execute_result"
    }
   ],
   "source": [
    "# Define the model with the best parameters\n",
    "model = RandomForestClassifier(n_estimators=10, random_state=42)\n",
    "\n",
    "# Train the Random Forest model\n",
    "model.fit(X_train, y_train)"
   ]
  },
  {
   "cell_type": "code",
   "execution_count": 38,
   "id": "45b4a1e5",
   "metadata": {
    "colab": {
     "base_uri": "https://localhost:8080/"
    },
    "id": "45b4a1e5",
    "outputId": "8161854b-8125-48f1-b1e5-1fb23b4527c7"
   },
   "outputs": [
    {
     "data": {
      "text/plain": [
       "0.7290102389078499"
      ]
     },
     "execution_count": 38,
     "metadata": {},
     "output_type": "execute_result"
    }
   ],
   "source": [
    "model.score(X_val,y_val)"
   ]
  },
  {
   "cell_type": "code",
   "execution_count": 39,
   "id": "u5TilnM4N8ni",
   "metadata": {
    "colab": {
     "base_uri": "https://localhost:8080/",
     "height": 74
    },
    "id": "u5TilnM4N8ni",
    "outputId": "6bd68fb1-5e34-4f02-b142-fcb0b76f4e67"
   },
   "outputs": [
    {
     "data": {
      "text/plain": [
       "RandomForestClassifier(n_estimators=10, random_state=42)"
      ]
     },
     "execution_count": 39,
     "metadata": {},
     "output_type": "execute_result"
    }
   ],
   "source": [
    "# Train the Random Forest model\n",
    "# Tune The model on validation data set\n",
    "model.fit(X_val,y_val)"
   ]
  },
  {
   "cell_type": "code",
   "execution_count": 40,
   "id": "tUt1kRKJOAcI",
   "metadata": {
    "colab": {
     "base_uri": "https://localhost:8080/"
    },
    "id": "tUt1kRKJOAcI",
    "outputId": "d74622bb-6e4d-40c9-f3c8-56e9e1de35cd"
   },
   "outputs": [
    {
     "data": {
      "text/plain": [
       "0.9840728100113766"
      ]
     },
     "execution_count": 40,
     "metadata": {},
     "output_type": "execute_result"
    }
   ],
   "source": [
    "model.score(X_val,y_val)"
   ]
  },
  {
   "cell_type": "code",
   "execution_count": 41,
   "id": "c28c3a9c",
   "metadata": {
    "id": "c28c3a9c"
   },
   "outputs": [],
   "source": [
    "from sklearn.metrics import accuracy_score, precision_score, recall_score, f1_score\n",
    "\n",
    "y_pred = model.predict(X_val)\n",
    "accuracy = accuracy_score(y_val, y_pred)\n",
    "precision = precision_score(y_val, y_pred, average='weighted')\n",
    "recall = recall_score(y_val, y_pred, average='weighted')\n",
    "f1 = f1_score(y_val, y_pred, average='weighted')"
   ]
  },
  {
   "cell_type": "code",
   "execution_count": 42,
   "id": "3d8fdbe0",
   "metadata": {
    "colab": {
     "base_uri": "https://localhost:8080/",
     "height": 175
    },
    "id": "3d8fdbe0",
    "outputId": "f939ac23-bf68-403d-e2a5-f5b2c0933987"
   },
   "outputs": [
    {
     "data": {
      "text/html": [
       "<div>\n",
       "<style scoped>\n",
       "    .dataframe tbody tr th:only-of-type {\n",
       "        vertical-align: middle;\n",
       "    }\n",
       "\n",
       "    .dataframe tbody tr th {\n",
       "        vertical-align: top;\n",
       "    }\n",
       "\n",
       "    .dataframe thead th {\n",
       "        text-align: right;\n",
       "    }\n",
       "</style>\n",
       "<table border=\"1\" class=\"dataframe\">\n",
       "  <thead>\n",
       "    <tr style=\"text-align: right;\">\n",
       "      <th></th>\n",
       "      <th>Metric</th>\n",
       "      <th>Value</th>\n",
       "    </tr>\n",
       "  </thead>\n",
       "  <tbody>\n",
       "    <tr>\n",
       "      <th>0</th>\n",
       "      <td>Accuracy</td>\n",
       "      <td>0.984073</td>\n",
       "    </tr>\n",
       "    <tr>\n",
       "      <th>1</th>\n",
       "      <td>Precision</td>\n",
       "      <td>0.984206</td>\n",
       "    </tr>\n",
       "    <tr>\n",
       "      <th>2</th>\n",
       "      <td>Recall</td>\n",
       "      <td>0.984073</td>\n",
       "    </tr>\n",
       "    <tr>\n",
       "      <th>3</th>\n",
       "      <td>F1</td>\n",
       "      <td>0.984073</td>\n",
       "    </tr>\n",
       "  </tbody>\n",
       "</table>\n",
       "</div>"
      ],
      "text/plain": [
       "      Metric     Value\n",
       "0   Accuracy  0.984073\n",
       "1  Precision  0.984206\n",
       "2     Recall  0.984073\n",
       "3         F1  0.984073"
      ]
     },
     "execution_count": 42,
     "metadata": {},
     "output_type": "execute_result"
    }
   ],
   "source": [
    "data = {\n",
    "    'Metric':['Accuracy', 'Precision', 'Recall', 'F1' ],\n",
    "    'Value':[accuracy, precision, recall, f1]\n",
    "}\n",
    "metrics_df = pd.DataFrame(data)\n",
    "metrics_df"
   ]
  },
  {
   "cell_type": "code",
   "execution_count": 43,
   "id": "ebddf70a",
   "metadata": {
    "colab": {
     "base_uri": "https://localhost:8080/"
    },
    "id": "ebddf70a",
    "outputId": "fad482fc-ea08-4a27-f627-7a1de38670da"
   },
   "outputs": [
    {
     "name": "stdout",
     "output_type": "stream",
     "text": [
      "[[2156   17]\n",
      " [  53 2169]]\n"
     ]
    }
   ],
   "source": [
    "print(confusion_matrix(y_val, y_pred))"
   ]
  },
  {
   "cell_type": "code",
   "execution_count": 44,
   "id": "92a2d4fe",
   "metadata": {
    "colab": {
     "base_uri": "https://localhost:8080/"
    },
    "id": "92a2d4fe",
    "outputId": "45303eb5-76e9-4a7a-aab8-ed122a61f400"
   },
   "outputs": [
    {
     "name": "stdout",
     "output_type": "stream",
     "text": [
      "              precision    recall  f1-score   support\n",
      "\n",
      "           0       0.98      0.99      0.98      2173\n",
      "           1       0.99      0.98      0.98      2222\n",
      "\n",
      "    accuracy                           0.98      4395\n",
      "   macro avg       0.98      0.98      0.98      4395\n",
      "weighted avg       0.98      0.98      0.98      4395\n",
      "\n"
     ]
    }
   ],
   "source": [
    "print(classification_report(y_val, y_pred))"
   ]
  },
  {
   "cell_type": "code",
   "execution_count": 45,
   "id": "PKX7XB76OZph",
   "metadata": {
    "colab": {
     "base_uri": "https://localhost:8080/"
    },
    "id": "PKX7XB76OZph",
    "outputId": "a475f093-6686-4a96-8a05-201c17212e94"
   },
   "outputs": [
    {
     "name": "stdout",
     "output_type": "stream",
     "text": [
      "Test Report:\n",
      "                precision    recall  f1-score   support\n",
      "\n",
      "Not Cancelled       0.67      0.73      0.70      2203\n",
      "    Cancelled       0.71      0.64      0.67      2193\n",
      "\n",
      "     accuracy                           0.69      4396\n",
      "    macro avg       0.69      0.69      0.69      4396\n",
      " weighted avg       0.69      0.69      0.69      4396\n",
      "\n"
     ]
    }
   ],
   "source": [
    "# Predict and evaluate on test set\n",
    "y_test_pred = model.predict(X_test)\n",
    "test_report = classification_report(y_test, y_test_pred, target_names=['Not Cancelled', 'Cancelled'])\n",
    "print(\"Test Report:\\n\", test_report)"
   ]
  },
  {
   "cell_type": "code",
   "execution_count": 46,
   "id": "9bae0567",
   "metadata": {
    "id": "9bae0567"
   },
   "outputs": [],
   "source": [
    "# Function to handle new airports during inference\n",
    "def encode_new_airport(airport_name, encoder):\n",
    "    if airport_name not in encoder.classes_:\n",
    "        return -1\n",
    "    else:\n",
    "        return encoder.transform([airport_name])[0]"
   ]
  },
  {
   "cell_type": "code",
   "execution_count": 47,
   "id": "YML0152tQEsG",
   "metadata": {
    "colab": {
     "base_uri": "https://localhost:8080/"
    },
    "id": "YML0152tQEsG",
    "outputId": "d2bb231a-63cd-4892-fa66-20f3fc17bae9"
   },
   "outputs": [
    {
     "name": "stdout",
     "output_type": "stream",
     "text": [
      "Prediction for new data: [1]\n"
     ]
    }
   ],
   "source": [
    "# Function to handle new categories during inference\n",
    "def encode_new_category(value, encoder):\n",
    "    if value not in encoder.classes_:\n",
    "        return -1\n",
    "    else:\n",
    "        return encoder.transform([value])[0]\n",
    "\n",
    "# Prediction function\n",
    "def predict_flight_cancellation(model, scaler, label_encoder, new_data):\n",
    "    # Assume new_data is a DataFrame with the same columns as reduced_features\n",
    "    new_data_encoded = new_data.copy()\n",
    "    new_data_encoded['AIRLINE'] = new_data_encoded['AIRLINE'].apply(lambda x: encode_new_category(x, label_encoder))\n",
    "    new_data_encoded['ORIGIN_AIRPORT_NAME'] = new_data_encoded['ORIGIN_AIRPORT_NAME'].apply(lambda x: encode_new_category(x, label_encoder))\n",
    "    new_data_encoded['DESTINATION_AIRPORT_NAME'] = new_data_encoded['DESTINATION_AIRPORT_NAME'].apply(lambda x: encode_new_category(x, label_encoder))\n",
    "\n",
    "    # Handle any -1 values in the encoded data (which represent unknown categories)\n",
    "    new_data_encoded.fillna(-1, inplace=True)\n",
    "\n",
    "    # Scale the features\n",
    "    new_data_scaled = scaler.transform(new_data_encoded)\n",
    "\n",
    "    # Predict using the trained model\n",
    "    predictions = model.predict(new_data_scaled)\n",
    "\n",
    "    return predictions\n",
    "\n",
    "# Example usage\n",
    "new_data = pd.DataFrame({\n",
    "    'MONTH': [6],\n",
    "    'DAY': [15],\n",
    "    'AIRLINE': ['AS'],\n",
    "    'ORIGIN_AIRPORT_NAME': ['Seattle Tacoma International'],\n",
    "    'DESTINATION_AIRPORT_NAME': ['Los Angeles International'],\n",
    "    'SCHEDULED_TIME': [150],\n",
    "    'DISTANCE': [954]\n",
    "})\n",
    "\n",
    "predictions = predict_flight_cancellation(model, scaler, label_encoder, new_data)\n",
    "print(f\"Prediction for new data: {predictions}\")"
   ]
  },
  {
   "cell_type": "code",
   "execution_count": null,
   "id": "t6vKIrNKQN0q",
   "metadata": {
    "id": "t6vKIrNKQN0q"
   },
   "outputs": [],
   "source": []
  }
 ],
 "metadata": {
  "accelerator": "GPU",
  "colab": {
   "gpuType": "T4",
   "provenance": []
  },
  "kernelspec": {
   "display_name": "Python 3 (ipykernel)",
   "language": "python",
   "name": "python3"
  },
  "language_info": {
   "codemirror_mode": {
    "name": "ipython",
    "version": 3
   },
   "file_extension": ".py",
   "mimetype": "text/x-python",
   "name": "python",
   "nbconvert_exporter": "python",
   "pygments_lexer": "ipython3",
   "version": "3.9.12"
  }
 },
 "nbformat": 4,
 "nbformat_minor": 5
}
